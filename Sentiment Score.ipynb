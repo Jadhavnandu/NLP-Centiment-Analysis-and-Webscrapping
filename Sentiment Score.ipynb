{
 "cells": [
  {
   "cell_type": "code",
   "execution_count": 12,
   "id": "57df6977",
   "metadata": {},
   "outputs": [],
   "source": [
    "import pandas as pd\n",
    "from textblob import TextBlob\n",
    "\n",
    "df = pd.read_csv(r'C:\\Users\\T2C\\train.csv', encoding='ISO-8859-1')\n",
    "\n",
    "# List of text columns to analyze\n",
    "text_columns = ['text', 'selected_text']  # Add other text columns here\n",
    "\n",
    "for column in text_columns:\n",
    "    # Ensuring the column contains only string values\n",
    "    df[column] = df[column].astype(str)\n",
    "\n",
    "    # Calculating sentiment polarity for each text entry\n",
    "    df[f'{column}_sentiment_score'] = df[column].apply(lambda x: TextBlob(x).sentiment.polarity)\n",
    "\n",
    "# Saving the final sentiment scores to a CSV file\n",
    "output_csv_path = 'sentiment_scores.csv'\n",
    "df.to_csv(output_csv_path, index=False)"
   ]
  },
  {
   "cell_type": "code",
   "execution_count": null,
   "id": "b8018b07",
   "metadata": {},
   "outputs": [],
   "source": []
  }
 ],
 "metadata": {
  "kernelspec": {
   "display_name": "Python 3 (ipykernel)",
   "language": "python",
   "name": "python3"
  },
  "language_info": {
   "codemirror_mode": {
    "name": "ipython",
    "version": 3
   },
   "file_extension": ".py",
   "mimetype": "text/x-python",
   "name": "python",
   "nbconvert_exporter": "python",
   "pygments_lexer": "ipython3",
   "version": "3.11.4"
  }
 },
 "nbformat": 4,
 "nbformat_minor": 5
}
